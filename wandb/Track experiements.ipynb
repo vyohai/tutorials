{
 "cells": [
  {
   "cell_type": "code",
   "execution_count": null,
   "id": "b24193b0",
   "metadata": {},
   "outputs": [],
   "source": []
  },
  {
   "cell_type": "markdown",
   "id": "b057e757",
   "metadata": {},
   "source": [
    "based on:https://docs.wandb.ai/guides/track"
   ]
  }
 ],
 "metadata": {
  "kernelspec": {
   "display_name": "wandb_tutorial_kernel",
   "language": "python",
   "name": "wandb_tutorial_kernel"
  },
  "language_info": {
   "codemirror_mode": {
    "name": "ipython",
    "version": 3
   },
   "file_extension": ".py",
   "mimetype": "text/x-python",
   "name": "python",
   "nbconvert_exporter": "python",
   "pygments_lexer": "ipython3",
   "version": "3.7.9"
  }
 },
 "nbformat": 4,
 "nbformat_minor": 5
}
