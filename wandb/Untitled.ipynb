{
 "cells": [
  {
   "cell_type": "markdown",
   "id": "fc7cc871",
   "metadata": {},
   "source": [
    "include:\n",
    "    1. "
   ]
  },
  {
   "cell_type": "code",
   "execution_count": null,
   "id": "cf6562da",
   "metadata": {},
   "outputs": [],
   "source": [
    "pip list"
   ]
  },
  {
   "cell_type": "code",
   "execution_count": 2,
   "id": "da4f86ea",
   "metadata": {},
   "outputs": [
    {
     "name": "stdout",
     "output_type": "stream",
     "text": [
      "Requirement already satisfied: pip in c:\\users\\user\\desktop\\github-repos\\tutorials\\wandb\\wandbtutorial\\lib\\site-packages (23.0.1)\n"
     ]
    }
   ],
   "source": [
    "!c:\\users\\user\\desktop\\github-repos\\tutorials\\wandb\\wandbtutorial\\scripts\\python.exe -m pip install --upgrade pip"
   ]
  },
  {
   "cell_type": "code",
   "execution_count": null,
   "id": "ca093ff0",
   "metadata": {},
   "outputs": [],
   "source": []
  }
 ],
 "metadata": {
  "kernelspec": {
   "display_name": "wandbTutorial",
   "language": "python",
   "name": "wandbtutorial"
  },
  "language_info": {
   "codemirror_mode": {
    "name": "ipython",
    "version": 3
   },
   "file_extension": ".py",
   "mimetype": "text/x-python",
   "name": "python",
   "nbconvert_exporter": "python",
   "pygments_lexer": "ipython3",
   "version": "3.7.9"
  }
 },
 "nbformat": 4,
 "nbformat_minor": 5
}
