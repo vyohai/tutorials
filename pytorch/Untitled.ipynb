{
 "cells": [
  {
   "cell_type": "code",
   "execution_count": 1,
   "id": "86371c2b",
   "metadata": {},
   "outputs": [
    {
     "name": "stdout",
     "output_type": "stream",
     "text": [
      "Package              Version\n",
      "-------------------- -------\n",
      "anyio                3.6.2\n",
      "argon2-cffi          21.3.0\n",
      "argon2-cffi-bindings 21.2.0\n",
      "attrs                22.2.0\n",
      "backcall             0.2.0\n",
      "beautifulsoup4       4.11.2\n",
      "bleach               6.0.0\n",
      "cffi                 1.15.1\n",
      "colorama             0.4.6\n",
      "debugpy              1.6.6\n",
      "decorator            5.1.1\n",
      "defusedxml           0.7.1\n",
      "entrypoints          0.4\n",
      "fastjsonschema       2.16.3\n",
      "idna                 3.4\n",
      "importlib-metadata   6.0.0\n",
      "importlib-resources  5.12.0\n",
      "ipykernel            6.16.2\n",
      "ipython              7.34.0\n",
      "ipython-genutils     0.2.0\n",
      "jedi                 0.18.2\n",
      "Jinja2               3.1.2\n",
      "jsonschema           4.17.3\n",
      "jupyter_client       7.4.9\n",
      "jupyter_core         4.12.0\n",
      "jupyter-server       1.23.6\n",
      "jupyterlab-pygments  0.2.2\n",
      "MarkupSafe           2.1.2\n",
      "matplotlib-inline    0.1.6\n",
      "mistune              2.0.5\n",
      "nbclassic            0.5.3\n",
      "nbclient             0.7.2\n",
      "nbconvert            7.2.10\n",
      "nbformat             5.7.3\n",
      "nest-asyncio         1.5.6\n",
      "notebook             6.5.3\n",
      "notebook_shim        0.2.2\n",
      "packaging            23.0\n",
      "pandocfilters        1.5.0\n",
      "parso                0.8.3\n",
      "pickleshare          0.7.5\n",
      "pip                  23.0.1\n",
      "pkgutil_resolve_name 1.3.10\n",
      "prometheus-client    0.16.0\n",
      "prompt-toolkit       3.0.38\n",
      "psutil               5.9.4\n",
      "pycparser            2.21\n",
      "Pygments             2.14.0\n",
      "pyrsistent           0.19.3\n",
      "python-dateutil      2.8.2\n",
      "pywin32              305\n",
      "pywinpty             2.0.10\n",
      "pyzmq                25.0.1\n",
      "Send2Trash           1.8.0\n",
      "setuptools           47.1.0\n",
      "six                  1.16.0\n",
      "sniffio              1.3.0\n",
      "soupsieve            2.4\n",
      "terminado            0.17.1\n",
      "tinycss2             1.2.1\n",
      "torch                1.13.1\n",
      "tornado              6.2\n",
      "traitlets            5.9.0\n",
      "typing_extensions    4.5.0\n",
      "wcwidth              0.2.6\n",
      "webencodings         0.5.1\n",
      "websocket-client     1.5.1\n",
      "zipp                 3.15.0\n",
      "Note: you may need to restart the kernel to use updated packages.\n"
     ]
    }
   ],
   "source": [
    "pip list"
   ]
  },
  {
   "cell_type": "code",
   "execution_count": 2,
   "id": "f6471e52",
   "metadata": {},
   "outputs": [
    {
     "name": "stdout",
     "output_type": "stream",
     "text": [
      "Requirement already satisfied: pip in c:\\users\\user\\desktop\\github-repos\\tutorials\\pytorch\\pytorchtutorial\\lib\\site-packages (23.0.1)\n"
     ]
    }
   ],
   "source": [
    "!c:\\users\\user\\desktop\\github-repos\\tutorials\\pytorch\\pytorchtutorial\\scripts\\python.exe -m pip install --upgrade pip"
   ]
  },
  {
   "cell_type": "code",
   "execution_count": null,
   "id": "2ab464ab",
   "metadata": {},
   "outputs": [],
   "source": []
  }
 ],
 "metadata": {
  "kernelspec": {
   "display_name": "pytorvTutorial",
   "language": "python",
   "name": "pytorvtutorial"
  },
  "language_info": {
   "codemirror_mode": {
    "name": "ipython",
    "version": 3
   },
   "file_extension": ".py",
   "mimetype": "text/x-python",
   "name": "python",
   "nbconvert_exporter": "python",
   "pygments_lexer": "ipython3",
   "version": "3.7.9"
  }
 },
 "nbformat": 4,
 "nbformat_minor": 5
}
