{
 "cells": [
  {
   "cell_type": "code",
   "execution_count": null,
   "id": "0a55af3b",
   "metadata": {},
   "outputs": [],
   "source": []
  },
  {
   "cell_type": "markdown",
   "id": "201971eb",
   "metadata": {},
   "source": [
    "based on: https://pytorch.org/docs/stable/generated/torch.nn.LSTM.html\n",
    "\n",
    "and: https://pytorch.org/docs/stable/generated/torch.nn.LSTMCell.html#torch.nn.LSTMCell\n",
    "\n"
   ]
  }
 ],
 "metadata": {
  "kernelspec": {
   "display_name": "pytorch_tutorial_kernel",
   "language": "python",
   "name": "pytorch_tutorial_kernel"
  },
  "language_info": {
   "codemirror_mode": {
    "name": "ipython",
    "version": 3
   },
   "file_extension": ".py",
   "mimetype": "text/x-python",
   "name": "python",
   "nbconvert_exporter": "python",
   "pygments_lexer": "ipython3",
   "version": "3.7.9"
  }
 },
 "nbformat": 4,
 "nbformat_minor": 5
}
