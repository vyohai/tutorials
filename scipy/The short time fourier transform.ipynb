{
 "cells": [
  {
   "cell_type": "markdown",
   "id": "f28c8fe0",
   "metadata": {},
   "source": [
    "# The discrete-time fourier transform"
   ]
  },
  {
   "cell_type": "markdown",
   "id": "0e93e554",
   "metadata": {},
   "source": [
    "based on:\n",
    " 1. https://en.wikipedia.org/wiki/Short-time_Fourier_transform\n",
    " \n",
    "2. https://docs.scipy.org/doc/scipy/reference/generated/scipy.signal.stft.html#scipy.signal.stft\n",
    "\n",
    "3. https://docs.scipy.org/doc/scipy/reference/generated/scipy.signal.istft.html#scipy.signal.istft\n",
    "\n",
    "4. https://docs.scipy.org/doc/scipy/reference/generated/scipy.signal.spectrogram.html"
   ]
  },
  {
   "cell_type": "markdown",
   "id": "99f64392",
   "metadata": {},
   "source": [
    "## intro"
   ]
  },
  {
   "cell_type": "markdown",
   "id": "d1fc2e2f",
   "metadata": {},
   "source": [
    "### The STFT\n",
    "\n",
    "\n",
    "\n",
    "\n",
    "#########################################\n",
    "$X_{2\\pi}(\\omega)=\\sum_{n=\\infty}^{\\infty}x[n]*e^{-i\\omega n}$\n",
    "\n",
    "$\\ x[n]$: real or complex sequence(signal)(n$\\subset$Z)\n",
    "\n",
    "$\\omega$ has normalized units of [$\\frac{radians}{sample}$] the periodicity is 2$\\pi$\n",
    "* The DTFT of x[n] produces a periodic function of a frquency variable $\\omega$\n",
    "\n",
    "\n",
    "* the DTFT starts with a discrete sequence in time and produces a periodic function in frequency\n",
    "\n",
    "* normalized frequency is a ratio of a variable frequency (f) and a constant frequency associated with a system (such as a sampling rate, fs)\n",
    "\n",
    "#### The inverse DTFT\n",
    "x[n]=$\\frac{1}{2\\pi}\\int_{2\\pi} X_{2\\pi}(\\omega)e^{i\\omega n}d\\omega$"
   ]
  }
 ],
 "metadata": {
  "kernelspec": {
   "display_name": "scipy_tutorial_kernel",
   "language": "python",
   "name": "scipy_tutorial_venv"
  },
  "language_info": {
   "codemirror_mode": {
    "name": "ipython",
    "version": 3
   },
   "file_extension": ".py",
   "mimetype": "text/x-python",
   "name": "python",
   "nbconvert_exporter": "python",
   "pygments_lexer": "ipython3",
   "version": "3.7.9"
  }
 },
 "nbformat": 4,
 "nbformat_minor": 5
}
