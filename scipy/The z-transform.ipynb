{
 "cells": [
  {
   "cell_type": "code",
   "execution_count": null,
   "id": "d372b2c7",
   "metadata": {},
   "outputs": [],
   "source": [
    "include:\n",
    "    1.definition\n",
    "    2.ROC and stability"
   ]
  }
 ],
 "metadata": {
  "kernelspec": {
   "display_name": "scipyTutorial",
   "language": "python",
   "name": "scipytutorial"
  },
  "language_info": {
   "codemirror_mode": {
    "name": "ipython",
    "version": 3
   },
   "file_extension": ".py",
   "mimetype": "text/x-python",
   "name": "python",
   "nbconvert_exporter": "python",
   "pygments_lexer": "ipython3",
   "version": "3.7.9"
  }
 },
 "nbformat": 4,
 "nbformat_minor": 5
}
