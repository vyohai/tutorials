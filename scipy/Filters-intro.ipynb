{
 "cells": [
  {
   "cell_type": "markdown",
   "id": "c333a05b",
   "metadata": {},
   "source": [
    "include:\n",
    "    1.filter clasification in time\n",
    "    2.filter stability\n",
    "    3. the convolution theorem\n",
    "    4. ideal filters\n",
    "    5.filter clasification in frequency"
   ]
  }
 ],
 "metadata": {
  "kernelspec": {
   "display_name": "scipyTutorial",
   "language": "python",
   "name": "scipytutorial"
  },
  "language_info": {
   "codemirror_mode": {
    "name": "ipython",
    "version": 3
   },
   "file_extension": ".py",
   "mimetype": "text/x-python",
   "name": "python",
   "nbconvert_exporter": "python",
   "pygments_lexer": "ipython3",
   "version": "3.7.9"
  }
 },
 "nbformat": 4,
 "nbformat_minor": 5
}
