{
 "cells": [
  {
   "cell_type": "markdown",
   "id": "fa97bdf1",
   "metadata": {},
   "source": [
    "include:\n",
    "    1. truncuation and Gibbs\n",
    "    2. the window method\n",
    "    3. frequency sampling"
   ]
  }
 ],
 "metadata": {
  "kernelspec": {
   "display_name": "scipyTutorial",
   "language": "python",
   "name": "scipytutorial"
  },
  "language_info": {
   "codemirror_mode": {
    "name": "ipython",
    "version": 3
   },
   "file_extension": ".py",
   "mimetype": "text/x-python",
   "name": "python",
   "nbconvert_exporter": "python",
   "pygments_lexer": "ipython3",
   "version": "3.7.9"
  }
 },
 "nbformat": 4,
 "nbformat_minor": 5
}
