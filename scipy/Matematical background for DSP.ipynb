{
 "cells": [
  {
   "cell_type": "markdown",
   "id": "54bc795d",
   "metadata": {},
   "source": [
    "include:\n",
    "    1. complex exponential\n",
    "    2. vector spaces, bases, subspace and approximations\n",
    "    3.the DFT\n",
    "    4. linearity and time invariance\n",
    "    5.convolution\n",
    "    6."
   ]
  },
  {
   "cell_type": "code",
   "execution_count": null,
   "id": "2b3ba983",
   "metadata": {},
   "outputs": [],
   "source": [
    "pip list"
   ]
  },
  {
   "cell_type": "code",
   "execution_count": 2,
   "id": "5da09576",
   "metadata": {},
   "outputs": [
    {
     "name": "stdout",
     "output_type": "stream",
     "text": [
      "Requirement already satisfied: pip in c:\\users\\user\\desktop\\github-repos\\tutorials\\scipy\\scipytutorial\\lib\\site-packages (23.0.1)\n"
     ]
    }
   ],
   "source": [
    "!c:\\users\\user\\desktop\\github-repos\\tutorials\\scipy\\scipytutorial\\scripts\\python.exe -m pip install --upgrade pip"
   ]
  }
 ],
 "metadata": {
  "kernelspec": {
   "display_name": "scipyTutorial",
   "language": "python",
   "name": "scipytutorial"
  },
  "language_info": {
   "codemirror_mode": {
    "name": "ipython",
    "version": 3
   },
   "file_extension": ".py",
   "mimetype": "text/x-python",
   "name": "python",
   "nbconvert_exporter": "python",
   "pygments_lexer": "ipython3",
   "version": "3.7.9"
  }
 },
 "nbformat": 4,
 "nbformat_minor": 5
}
